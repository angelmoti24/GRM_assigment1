{
 "cells": [
  {
   "cell_type": "code",
   "execution_count": 1,
   "id": "planned-beverage",
   "metadata": {
    "ExecuteTime": {
     "end_time": "2021-10-28T21:00:39.133353Z",
     "start_time": "2021-10-28T21:00:39.061Z"
    }
   },
   "outputs": [],
   "source": [
    "blood <- read.table('datasets/Bloodpressure.txt',head=T)"
   ]
  },
  {
   "cell_type": "code",
   "execution_count": 2,
   "id": "single-leisure",
   "metadata": {
    "ExecuteTime": {
     "end_time": "2021-10-28T21:00:41.044907Z",
     "start_time": "2021-10-28T21:00:40.979Z"
    }
   },
   "outputs": [
    {
     "data": {
      "text/plain": [
       "\n",
       "Call:\n",
       "lm(formula = log(recovery_time) ~ exp(log_drug) + blood_pressure, \n",
       "    data = blood)\n",
       "\n",
       "Residuals:\n",
       "     Min       1Q   Median       3Q      Max \n",
       "-1.56518 -0.48266  0.08558  0.45925  1.23252 \n",
       "\n",
       "Coefficients:\n",
       "               Estimate Std. Error t value Pr(>|t|)    \n",
       "(Intercept)     4.08705    0.79377   5.149 4.44e-06 ***\n",
       "exp(log_drug)   0.10491    0.03706   2.831  0.00666 ** \n",
       "blood_pressure -0.03031    0.01348  -2.249  0.02892 *  \n",
       "---\n",
       "Signif. codes:  0 ‘***’ 0.001 ‘**’ 0.01 ‘*’ 0.05 ‘.’ 0.1 ‘ ’ 1\n",
       "\n",
       "Residual standard error: 0.6483 on 50 degrees of freedom\n",
       "Multiple R-squared:  0.1514,\tAdjusted R-squared:  0.1174 \n",
       "F-statistic:  4.46 on 2 and 50 DF,  p-value: 0.01651\n"
      ]
     },
     "metadata": {},
     "output_type": "display_data"
    }
   ],
   "source": [
    "#Simple linear regession model based on size\n",
    "Model1 <- lm(formula = log(recovery_time) ~ exp(log_drug) + blood_pressure, data =blood)\n",
    "summary(Model1)"
   ]
  },
  {
   "cell_type": "code",
   "execution_count": null,
   "id": "quick-bunny",
   "metadata": {},
   "outputs": [],
   "source": []
  }
 ],
 "metadata": {
  "kernelspec": {
   "display_name": "R",
   "language": "R",
   "name": "ir"
  },
  "language_info": {
   "codemirror_mode": "r",
   "file_extension": ".r",
   "mimetype": "text/x-r-source",
   "name": "R",
   "pygments_lexer": "r",
   "version": "4.1.1"
  }
 },
 "nbformat": 4,
 "nbformat_minor": 5
}
